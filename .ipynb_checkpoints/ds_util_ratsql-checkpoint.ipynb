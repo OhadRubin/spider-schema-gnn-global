{
 "cells": [
  {
   "cell_type": "code",
   "execution_count": 1,
   "metadata": {},
   "outputs": [],
   "source": [
    "import os\n",
    "# os.environ[“CUDA_DEVICE_ORDER”]=“PCI_BUS_ID”\n",
    "os.environ[\"CUDA_VISIBLE_DEVICES\"]=\"1\"\n",
    "# experiment_name = \"3_heads_lr3_keep_op_identity+agenda_enriched_all+lr_e3+mult_scalar_per_action+glove\"\n",
    "# experiment_name = \"crappy-red-dhole\"\n",
    "\n",
    "from allennlp.models.archival import Archive\n",
    "import torch\n",
    "from allennlp.common import Params\n",
    "from allennlp.models.model import Model\n",
    "from allennlp.common.params import with_fallback\n",
    "from dataset_readers.spider import SpiderDatasetReader\n",
    "# from models.semantic_parsing.spider_parser import SpiderParser\n",
    "reader = SpiderDatasetReader(tables_file=\"dataset/tables.json\",max_instances=50)\n",
    "# settings = Params.from_file(f\"experiments/{experiment_name}/config.json\")\n",
    "# model = Model.load(config=settings, serialization_dir=f\"experiments/{experiment_name}\")\n",
    "\n",
    "\n",
    "train_dataset = reader.read(\"dataset/train_spider.json\")"
   ]
  },
  {
   "cell_type": "code",
   "execution_count": 4,
   "metadata": {},
   "outputs": [
    {
     "data": {
      "text/plain": [
       "<allennlp.data.instance.Instance at 0x7f36565e9e20>"
      ]
     },
     "execution_count": 4,
     "metadata": {},
     "output_type": "execute_result"
    }
   ],
   "source": [
    "import random\n",
    "i=random.randint(0,len(train_dataset))\n",
    "a=None\n",
    "for inst in train_dataset[i:i+1]:\n",
    "#     print(inst)\n",
    "    a=inst\n"
   ]
  },
  {
   "cell_type": "code",
   "execution_count": 8,
   "metadata": {},
   "outputs": [
    {
     "name": "stdout",
     "output_type": "stream",
     "text": [
      "('utterance', <allennlp.data.fields.text_field.TextField object at 0x7f36567d44c0>)\n",
      "('valid_actions', <allennlp.data.fields.list_field.ListField object at 0x7f3660a35fd0>)\n",
      "('action_sequence', <allennlp.data.fields.list_field.ListField object at 0x7f36565e9730>)\n",
      "('world', <allennlp.data.fields.metadata_field.MetadataField object at 0x7f36565e9d00>)\n",
      "('schema', <dataset_readers.fields.spider_knowledge_graph_field.SpiderKnowledgeGraphField object at 0x7f36565e0be0>)\n"
     ]
    }
   ],
   "source": [
    "for v in a.items():\n",
    "    print(v)"
   ]
  },
  {
   "cell_type": "code",
   "execution_count": 10,
   "metadata": {},
   "outputs": [],
   "source": [
    "b=a.fields['utterance']"
   ]
  },
  {
   "cell_type": "code",
   "execution_count": 14,
   "metadata": {},
   "outputs": [],
   "source": [
    "b.sequence_length()\n",
    "b.tokens"
   ]
  },
  {
   "cell_type": "code",
   "execution_count": 20,
   "metadata": {},
   "outputs": [],
   "source": [
    "c=a.fields['schema']\n",
    "c.__dict__"
   ]
  },
  {
   "cell_type": "code",
   "execution_count": 22,
   "metadata": {},
   "outputs": [
    {
     "name": "stderr",
     "output_type": "stream",
     "text": [
      "[nltk_data] Downloading package stopwords to /home/ohadr/nltk_data...\n",
      "[nltk_data]   Unzipping corpora/stopwords.zip.\n"
     ]
    },
    {
     "data": {
      "text/plain": [
       "True"
      ]
     },
     "execution_count": 22,
     "metadata": {},
     "output_type": "execute_result"
    }
   ],
   "source": []
  },
  {
   "cell_type": "code",
   "execution_count": null,
   "metadata": {},
   "outputs": [],
   "source": [
    "builder.compute_relations(dict(),)"
   ]
  },
  {
   "cell_type": "code",
   "execution_count": 1,
   "metadata": {},
   "outputs": [
    {
     "name": "stderr",
     "output_type": "stream",
     "text": [
      "DB connections: 100%|██████████| 166/166 [00:00<00:00, 481.52it/s]\n"
     ]
    }
   ],
   "source": [
    "import json\n",
    "from dataset_readers.ratsql_spider_bert import *\n",
    "\n",
    "builder = RelationBuilder()\n",
    "\n",
    "\n",
    "db_path = \"dataset/database\"\n",
    "pre = SpiderEncoderV2Preproc()\n",
    "schemas, eval_foreign_key_maps = pre.load_tables([\"dataset/tables.json\"])\n",
    "# for path in paths:\n",
    "for db_id, schema in tqdm(schemas.items(), desc=\"DB connections\"):\n",
    "    sqlite_path = Path(db_path) / db_id / f\"{db_id}.sqlite\"\n",
    "    source: sqlite3.Connection\n",
    "    with sqlite3.connect(sqlite_path) as source:\n",
    "        dest = sqlite3.connect(':memory:')\n",
    "        dest.row_factory = sqlite3.Row\n",
    "        source.backup(dest)\n",
    "    schema.connection = dest\n",
    "    \n",
    "examples=[]\n",
    "raw_data = json.load(open(\"dataset/train_spider.json\"))\n",
    "for entry in raw_data:\n",
    "    item = SpiderItem(\n",
    "        text=entry['question_toks'],\n",
    "        code=entry['sql'],\n",
    "        schema=schemas[entry['db_id']],\n",
    "        orig=entry,\n",
    "        orig_schema=schemas[entry['db_id']].orig)\n",
    "#     desc = pre.preprocess_item(item,\"train\")\n",
    "    examples.append(item)\n",
    "\n",
    "        # Backup in-memory copies of all the DBs and create the live connections\n"
   ]
  },
  {
   "cell_type": "code",
   "execution_count": 5,
   "metadata": {},
   "outputs": [
    {
     "name": "stderr",
     "output_type": "stream",
     "text": [
      "  0%|          | 0/7000 [00:00<?, ?it/s]"
     ]
    },
    {
     "name": "stdout",
     "output_type": "stream",
     "text": [
      "['How', 'many', 'heads', 'of', 'the', 'departments', 'are', 'older', 'than', '56', '?', '<type: text>_*_<table-sep>_<any-table>', '<type: number>_department_id_<table-sep>_department', '<type: text>_name_<table-sep>_department', '<type: text>_creation_<table-sep>_department', '<type: number>_ranking_<table-sep>_department', '<type: number>_budget_in_billions_<table-sep>_department', '<type: number>_num_employees_<table-sep>_department', '<type: number>_head_id_<table-sep>_head', '<type: text>_name_<table-sep>_head', '<type: text>_born_state_<table-sep>_head', '<type: number>_age_<table-sep>_head', '<type: number>_department_id_<table-sep>_management', '<type: number>_head_id_<table-sep>_management', '<type: text>_temporary_acting_<table-sep>_management', 'department', 'head', 'management']\n",
      "[[ 2  3  4  4  4  4  4  4  4  4  4  5  5  5  5  5  5  5  5  5  5  5  5  5\n",
      "   5  6  6  6]\n",
      " [ 1  2  3  4  4  4  4  4  4  4  4  5  5  5  5  5  5  5  5  5  5  5  5  5\n",
      "   5  6  6  6]\n",
      " [ 0  1  2  3  4  4  4  4  4  4  4  5  5  5  5  5  5  5  5  5  5  5  5  5\n",
      "   5  6  6  6]\n",
      " [ 0  0  1  2  3  4  4  4  4  4  4  5  5  5  5  5  5  5  5  5  5  5  5  5\n",
      "   5  6  6  6]\n",
      " [ 0  0  0  1  2  3  4  4  4  4  4  5  5  5  5  5  5  5  5  5  5  5  5  5\n",
      "   5  6  6  6]\n",
      " [ 0  0  0  0  1  2  3  4  4  4  4  5  5  5  5  5  5  5  5  5  5  5  5  5\n",
      "   5  6  6  6]\n",
      " [ 0  0  0  0  0  1  2  3  4  4  4  5  5  5  5  5  5  5  5  5  5  5  5  5\n",
      "   5  6  6  6]\n",
      " [ 0  0  0  0  0  0  1  2  3  4  4  5  5  5  5  5  5  5  5  5  5  5  5  5\n",
      "   5  6  6  6]\n",
      " [ 0  0  0  0  0  0  0  1  2  3  4  5  5  5  5  5  5  5  5  5  5  5  5  5\n",
      "   5  6  6  6]\n",
      " [ 0  0  0  0  0  0  0  0  1  2  3  5 45  5  5 45 45 45 45  5  5 45 45 45\n",
      "   5  6  6  6]\n",
      " [ 0  0  0  0  0  0  0  0  0  1  2  5  5  5  5  5  5  5  5  5  5  5  5  5\n",
      "   5  6  6  6]\n",
      " [ 7  7  7  7  7  7  7  7  7  7  7 14  8  8  8  8  8  8  8  8  8  8  8  8\n",
      "   8 21 21 21]\n",
      " [ 7  7  7  7  7  7  7  7  7 46  7  8 14 11 11 11 11 11  8  8  8  8 10  8\n",
      "   8 20 17 17]\n",
      " [ 7  7  7  7  7  7  7  7  7  7  7  8 11 14 11 11 11 11  8  8  8  8  8  8\n",
      "   8 20 17 17]\n",
      " [ 7  7  7  7  7  7  7  7  7  7  7  8 11 11 14 11 11 11  8  8  8  8  8  8\n",
      "   8 20 17 17]\n",
      " [ 7  7  7  7  7  7  7  7  7 46  7  8 11 11 11 14 11 11  8  8  8  8  8  8\n",
      "   8 20 17 17]\n",
      " [ 7  7  7  7  7  7  7  7  7 46  7  8 11 11 11 11 14 11  8  8  8  8  8  8\n",
      "   8 20 17 17]\n",
      " [ 7  7  7  7  7  7  7  7  7 46  7  8 11 11 11 11 11 14  8  8  8  8  8  8\n",
      "   8 20 17 17]\n",
      " [ 7  7  7  7  7  7  7  7  7 46  7  8  8  8  8  8  8  8 14 11 11 11  8 10\n",
      "   8 17 20 17]\n",
      " [ 7  7  7  7  7  7  7  7  7  7  7  8  8  8  8  8  8  8 11 14 11 11  8  8\n",
      "   8 17 20 17]\n",
      " [ 7  7  7  7  7  7  7  7  7  7  7  8  8  8  8  8  8  8 11 11 14 11  8  8\n",
      "   8 17 20 17]\n",
      " [ 7  7  7  7  7  7  7  7  7 46  7  8  8  8  8  8  8  8 11 11 11 14  8  8\n",
      "   8 17 20 17]\n",
      " [ 7  7  7  7  7  7  7  7  7 46  7  8  9  8  8  8  8  8  8  8  8  8 14 11\n",
      "  11 17 17 19]\n",
      " [ 7  7  7  7  7  7  7  7  7 46  7  8  8  8  8  8  8  8  9  8  8  8 11 14\n",
      "  11 17 17 20]\n",
      " [ 7  7  7  7  7  7  7  7  7  7  7  8  8  8  8  8  8  8  8  8  8  8 11 11\n",
      "  14 17 17 20]\n",
      " [22 22 22 22 22 22 22 22 22 22 22 26 25 25 25 25 25 25 23 23 23 23 23 23\n",
      "  23 34 28 30]\n",
      " [22 22 22 22 22 22 22 22 22 22 22 26 23 23 23 23 23 23 25 25 25 25 23 23\n",
      "  23 28 34 30]\n",
      " [22 22 22 22 22 22 22 22 22 22 22 26 23 23 23 23 23 23 23 23 23 23 24 25\n",
      "  25 29 29 34]]\n"
     ]
    },
    {
     "name": "stderr",
     "output_type": "stream",
     "text": [
      "\n"
     ]
    }
   ],
   "source": [
    "# examples\n",
    "# \n",
    "# \n",
    "import tqdm\n",
    "for item in tqdm.tqdm(examples):\n",
    "    desc = pre.preprocess_item(item,\"train\")\n",
    "    q = desc['question']\n",
    "    q_len = len(q)\n",
    "    t = [x[0] for x in  desc['tables']]\n",
    "    t_len = len(t)\n",
    "    c = [\"_\".join(x) for x in  desc['columns']]\n",
    "    c_len = len(c)\n",
    "    enc = q+c+t\n",
    "    print(enc)\n",
    "    relation = builder.compute_relations(desc,len(enc),q_len,c_len,range(c_len+1),range(t_len+1))\n",
    "    print(relation)\n",
    "    break\n"
   ]
  },
  {
   "cell_type": "code",
   "execution_count": null,
   "metadata": {},
   "outputs": [],
   "source": []
  },
  {
   "cell_type": "code",
   "execution_count": null,
   "metadata": {},
   "outputs": [],
   "source": []
  }
 ],
 "metadata": {
  "kernelspec": {
   "display_name": "Python 3.8.0 64-bit ('3.8.0': pyenv)",
   "language": "python",
   "name": "python38064bit380pyenvd6170fe0cd77433db7c61a8427799ead"
  },
  "language_info": {
   "codemirror_mode": {
    "name": "ipython",
    "version": 3
   },
   "file_extension": ".py",
   "mimetype": "text/x-python",
   "name": "python",
   "nbconvert_exporter": "python",
   "pygments_lexer": "ipython3",
   "version": "3.8.0"
  }
 },
 "nbformat": 4,
 "nbformat_minor": 4
}
