{
 "cells": [
  {
   "cell_type": "code",
   "execution_count": null,
   "metadata": {},
   "outputs": [
    {
     "data": {
      "application/vnd.jupyter.widget-view+json": {
       "model_id": "f8632078c4284c52b41b5b9384338da3",
       "version_major": 2,
       "version_minor": 0
      },
      "text/plain": [
       "HBox(children=(FloatProgress(value=1.0, bar_style='info', max=1.0), HTML(value='')))"
      ]
     },
     "metadata": {},
     "output_type": "display_data"
    }
   ],
   "source": [
    "import os\n",
    "# os.environ[“CUDA_DEVICE_ORDER”]=“PCI_BUS_ID”\n",
    "os.environ[\"CUDA_VISIBLE_DEVICES\"]=\"1\"\n",
    "# experiment_name = \"3_heads_lr3_keep_op_identity+agenda_enriched_all+lr_e3+mult_scalar_per_action+glove\"\n",
    "# experiment_name = \"crappy-red-dhole\"\n",
    "\n",
    "from allennlp.models.archival import Archive\n",
    "import torch\n",
    "from allennlp.common import Params\n",
    "from allennlp.models.model import Model\n",
    "from allennlp.common.params import with_fallback\n",
    "from dataset_readers.spider_ratsql import SpiderRatsqlDatasetReader\n",
    "# from models.semantic_parsing.spider_parser import SpiderParser\n",
    "reader = SpiderRatsqlDatasetReader(tables_file=\"dataset/tables.json\",max_instances=100)\n",
    "# settings = Params.from_file(f\"experiments/{experiment_name}/config.json\")\n",
    "# model = Model.load(config=settings, serialization_dir=f\"experiments/{experiment_name}\")\n",
    "\n",
    "\n",
    "train_dataset = reader.read(\"dataset/train_spider.json\")"
   ]
  },
  {
   "cell_type": "code",
   "execution_count": null,
   "metadata": {},
   "outputs": [],
   "source": [
    "# train_dataset = reader.read(\"dataset/train_spider.json\")\n",
    "from models.semantic_parsing.ratsql_encoder import RatsqlEncoder\n",
    "from models.semantic_parsing.spider_encoder_decoder import SpiderParser\n",
    "from allennlp.modules.seq2vec_encoders.boe_encoder import BagOfEmbeddingsEncoder\n",
    "\n",
    "from allennlp.modules.attention.attention import Attention\n",
    "from allennlp.nn.beam_search import BeamSearch\n",
    "from allennlp.modules.seq2seq_encoders.pass_through_encoder import PassThroughEncoder\n",
    "\n",
    "from allennlp.data.vocabulary import Vocabulary\n",
    "from allennlp.modules.text_field_embedders import TextFieldEmbedder, BasicTextFieldEmbedder\n",
    "from allennlp.modules.token_embedders import Embedding\n",
    "from allennlp.modules.seq2seq_encoders import Seq2SeqEncoder, PytorchSeq2SeqWrapper\n",
    "# from allennlp.data.iterators import BasicIterator\n",
    "import torch.optim as optim\n",
    "from allennlp.training.trainer import Trainer\n",
    "import torch\n",
    "# with torch.cuda.device(0):\n",
    "vocab = Vocabulary.from_instances(train_dataset)\n",
    "EMBEDDING_DIM = 200\n",
    "HIDDEN_DIM = 200\n",
    "token_embedding = Embedding(num_embeddings=vocab.get_vocab_size('tokens'),\n",
    "                            embedding_dim=EMBEDDING_DIM)\n",
    "word_embeddings = BasicTextFieldEmbedder({\"tokens\": token_embedding})\n",
    "\n",
    "beam = BeamSearch(end_index=0,beam_size=10)\n",
    "# lstm = PytorchSeq2SeqWrapper(torch.nn.LSTM(EMBEDDING_DIM, HIDDEN_DIM, bidirectional=False,batch_first=True))\n",
    "# lstm2 = PytorchSeq2VecWrapper(torch.nn.LSTM(EMBEDDING_DIM, HIDDEN_DIM, bidirectional=True,batch_first=True))\n",
    "# [  ]\n",
    "\n",
    "\n",
    "schema_encoder = RatsqlEncoder(encoder=PassThroughEncoder(200),entity_encoder=BagOfEmbeddingsEncoder(200),question_embedder=word_embeddings,action_embedding_dim=200)\n",
    "model = SpiderParser(vocab=vocab,schema_encoder=schema_encoder, \n",
    "                     decoder_beam_search=beam,input_attention=Attention(),past_attention=Attention(),max_decoding_steps=10)\n",
    "\n",
    "\n",
    "    # model.cuda()\n",
    "#     iterator = BasicIterator(batch_size=15)\n",
    "#     optimizer = optim.Adam(model.parameters(), lr=0.001)\n",
    "#     iterator.index_with(vocab)\n",
    "#     trainer = Trainer(model=model,\n",
    "#                       optimizer=optimizer,\n",
    "#                       iterator=iterator,\n",
    "#                       train_dataset=train_dataset,\n",
    "#                       validation_dataset=train_dataset,\n",
    "#                       patience=10,\n",
    "#                       num_epochs=1)\n",
    "#     trainer.train()"
   ]
  },
  {
   "cell_type": "code",
   "execution_count": 6,
   "metadata": {},
   "outputs": [],
   "source": [
    "for inst in train_dataset:\n",
    "    a = inst\n",
    "    res_list = model.forward_on_instances([inst])\n",
    "    "
   ]
  },
  {
   "cell_type": "code",
   "execution_count": null,
   "metadata": {},
   "outputs": [],
   "source": [
    "model.forward_on_instances([a])"
   ]
  },
  {
   "cell_type": "code",
   "execution_count": 5,
   "metadata": {
    "jupyter": {
     "source_hidden": true
    }
   },
   "outputs": [],
   "source": [
    "import random\n",
    "\n",
    "i=random.randint(0,len(train_dataset))\n",
    "a=None\n",
    "for inst in train_dataset[i:i+1]:\n",
    "    a = inst\n",
    "    res_list = model.forward_on_instances([inst])\n",
    "    "
   ]
  },
  {
   "cell_type": "code",
   "execution_count": 5,
   "metadata": {},
   "outputs": [
    {
     "data": {
      "text/plain": [
       "{'raw_question': 'What are the names of the states where at least 3 heads were born?',\n",
       " 'question': ['What',\n",
       "  'are',\n",
       "  'the',\n",
       "  'names',\n",
       "  'of',\n",
       "  'the',\n",
       "  'states',\n",
       "  'where',\n",
       "  'at',\n",
       "  'least',\n",
       "  '3',\n",
       "  'heads',\n",
       "  'were',\n",
       "  'born',\n",
       "  '?'],\n",
       " 'question_for_copying': ['What',\n",
       "  'are',\n",
       "  'the',\n",
       "  'names',\n",
       "  'of',\n",
       "  'the',\n",
       "  'states',\n",
       "  'where',\n",
       "  'at',\n",
       "  'least',\n",
       "  '3',\n",
       "  'heads',\n",
       "  'were',\n",
       "  'born',\n",
       "  '?'],\n",
       " 'db_id': 'department_management',\n",
       " 'sc_link': {'q_col_match': {'13,9': 'CPM'}, 'q_tab_match': {}},\n",
       " 'cv_link': {'num_date_match': {'10,1': 'NUMBER',\n",
       "   '10,4': 'NUMBER',\n",
       "   '10,5': 'NUMBER',\n",
       "   '10,6': 'NUMBER',\n",
       "   '10,7': 'NUMBER',\n",
       "   '10,10': 'NUMBER',\n",
       "   '10,11': 'NUMBER',\n",
       "   '10,12': 'NUMBER'},\n",
       "  'cell_match': {}},\n",
       " 'columns': [['<type: text>', '*', '<table-sep>', '<any-table>'],\n",
       "  ['<type: number>', 'department', 'id', '<table-sep>', 'department'],\n",
       "  ['<type: text>', 'name', '<table-sep>', 'department'],\n",
       "  ['<type: text>', 'creation', '<table-sep>', 'department'],\n",
       "  ['<type: number>', 'ranking', '<table-sep>', 'department'],\n",
       "  ['<type: number>', 'budget', 'in', 'billions', '<table-sep>', 'department'],\n",
       "  ['<type: number>', 'num', 'employees', '<table-sep>', 'department'],\n",
       "  ['<type: number>', 'head', 'id', '<table-sep>', 'head'],\n",
       "  ['<type: text>', 'name', '<table-sep>', 'head'],\n",
       "  ['<type: text>', 'born', 'state', '<table-sep>', 'head'],\n",
       "  ['<type: number>', 'age', '<table-sep>', 'head'],\n",
       "  ['<type: number>', 'department', 'id', '<table-sep>', 'management'],\n",
       "  ['<type: number>', 'head', 'id', '<table-sep>', 'management'],\n",
       "  ['<type: text>', 'temporary', 'acting', '<table-sep>', 'management']],\n",
       " 'tables': [['department'], ['head'], ['management']],\n",
       " 'table_bounds': [1, 7, 11, 14],\n",
       " 'column_to_table': {'0': None,\n",
       "  '1': 0,\n",
       "  '2': 0,\n",
       "  '3': 0,\n",
       "  '4': 0,\n",
       "  '5': 0,\n",
       "  '6': 0,\n",
       "  '7': 1,\n",
       "  '8': 1,\n",
       "  '9': 1,\n",
       "  '10': 1,\n",
       "  '11': 2,\n",
       "  '12': 2,\n",
       "  '13': 2},\n",
       " 'table_to_columns': {'0': [1, 2, 3, 4, 5, 6],\n",
       "  '1': [7, 8, 9, 10],\n",
       "  '2': [11, 12, 13]},\n",
       " 'foreign_keys': {'11': 1, '12': 7},\n",
       " 'foreign_keys_tables': {'2': [0, 1]},\n",
       " 'primary_keys': [11, 11, 11]}"
      ]
     },
     "execution_count": 5,
     "metadata": {},
     "output_type": "execute_result"
    }
   ],
   "source": [
    "a.fields['desc'].metadata"
   ]
  },
  {
   "cell_type": "code",
   "execution_count": 6,
   "metadata": {},
   "outputs": [],
   "source": [
    "b= res_list[0]['initial_state']\n",
    "    "
   ]
  },
  {
   "cell_type": "code",
   "execution_count": 5,
   "metadata": {},
   "outputs": [],
   "source": [
    "c= b.get_valid_actions()"
   ]
  },
  {
   "cell_type": "code",
   "execution_count": null,
   "metadata": {},
   "outputs": [],
   "source": [
    "# c.get_valid_actions()\n",
    "b.possible_actions"
   ]
  },
  {
   "cell_type": "code",
   "execution_count": null,
   "metadata": {},
   "outputs": [],
   "source": [
    "len(train_dataset)"
   ]
  },
  {
   "cell_type": "code",
   "execution_count": 5,
   "metadata": {},
   "outputs": [
    {
     "name": "stdout",
     "output_type": "stream",
     "text": [
      "column:foreign:management:department_id\n",
      "column:foreign:management:head_id\n",
      "column:number:department:budget_in_billions\n",
      "column:number:department:num_employees\n",
      "column:number:department:ranking\n",
      "column:number:head:age\n",
      "column:primary:department:department_id\n",
      "column:primary:head:head_id\n",
      "column:text:department:creation\n",
      "column:text:department:name\n",
      "column:text:head:born_state\n",
      "column:text:head:name\n",
      "column:text:management:temporary_acting\n",
      "string:california\n",
      "string:state\n",
      "table:department\n",
      "table:head\n",
      "table:management\n"
     ]
    }
   ],
   "source": [
    "import random\n",
    "i=random.randint(0,len(train_dataset))\n",
    "a=None\n",
    "for inst in train_dataset[i:i+1]:\n",
    "#     print(inst)\n",
    "    a=inst\n",
    "# b=a.fields['relation']\n",
    "# b.array\n",
    "b=a.fields['world']\n",
    "c=a.fields['desc']\n",
    "d=a.fields['item'] \n",
    "e = a.fields[\"schema\"]\n",
    "# b\n",
    "# print(a.fields['utterance'])\n",
    "for entity in b.metadata.db_context.knowledge_graph.entities:\n",
    "    print(entity)"
   ]
  },
  {
   "cell_type": "code",
   "execution_count": 6,
   "metadata": {},
   "outputs": [
    {
     "name": "stdout",
     "output_type": "stream",
     "text": [
      "['<type: text>', '*', '<table-sep>', '<any-table>']\n",
      "<any-table>@*\n",
      "['<type: number>', 'department', 'id', '<table-sep>', 'department']\n",
      "department@department_id\n",
      "['<type: text>', 'name', '<table-sep>', 'department']\n",
      "department@name\n",
      "['<type: text>', 'creation', '<table-sep>', 'department']\n",
      "department@creation\n",
      "['<type: number>', 'ranking', '<table-sep>', 'department']\n",
      "department@ranking\n",
      "['<type: number>', 'budget', 'in', 'billions', '<table-sep>', 'department']\n",
      "department@budget_in_billions\n",
      "['<type: number>', 'num', 'employees', '<table-sep>', 'department']\n",
      "department@num_employees\n",
      "['<type: number>', 'head', 'id', '<table-sep>', 'head']\n",
      "head@head_id\n",
      "['<type: text>', 'name', '<table-sep>', 'head']\n",
      "head@name\n",
      "['<type: text>', 'born', 'state', '<table-sep>', 'head']\n",
      "head@born_state\n",
      "['<type: number>', 'age', '<table-sep>', 'head']\n",
      "head@age\n",
      "['<type: number>', 'department', 'id', '<table-sep>', 'management']\n",
      "management@department_id\n",
      "['<type: number>', 'head', 'id', '<table-sep>', 'management']\n",
      "management@head_id\n",
      "['<type: text>', 'temporary', 'acting', '<table-sep>', 'management']\n",
      "management@temporary_acting\n",
      "['department']\n",
      "department\n",
      "['head']\n",
      "head\n",
      "['management']\n",
      "management\n"
     ]
    }
   ],
   "source": [
    "for entity in (c.metadata['columns']+c.metadata['tables']):\n",
    "def normalize_schema_constant(entity):\n",
    "#     print(entity)\n",
    "    col = \"_\".join(entity)\n",
    "    col =  col.split(\"_<table-sep>_\")\n",
    "    if len(col)==1:\n",
    "        return \"_\".join(entity)\n",
    "#         print()\n",
    "    else:\n",
    "        table = col[1]\n",
    "        col = col[0].split(\">_\")[1]\n",
    "        return f\"{table}@{col}\"\n",
    "#         print()\n",
    "        \n",
    "    "
   ]
  },
  {
   "cell_type": "code",
   "execution_count": 18,
   "metadata": {},
   "outputs": [
    {
     "data": {
      "text/plain": [
       "[[department, id],\n",
       " [head, id],\n",
       " [budget, in, billions],\n",
       " [num, employees],\n",
       " [ranking],\n",
       " [age],\n",
       " [department, id],\n",
       " [head, id],\n",
       " [creation],\n",
       " [name],\n",
       " [born, state],\n",
       " [name],\n",
       " [temporary, acting],\n",
       " [rank],\n",
       " [department],\n",
       " [head],\n",
       " [management]]"
      ]
     },
     "execution_count": 18,
     "metadata": {},
     "output_type": "execute_result"
    }
   ],
   "source": [
    "e.entity_texts"
   ]
  },
  {
   "cell_type": "code",
   "execution_count": 4,
   "metadata": {},
   "outputs": [
    {
     "name": "stdout",
     "output_type": "stream",
     "text": [
      "ListField of 144 ProductionRuleFields : \n",
      " \t ProductionRuleField with rule: arg_list -> [expr, \",\", arg_list] (is_global_rule: True) in namespace: 'rule_labels'.' \n",
      " \t ProductionRuleField with rule: arg_list -> [expr] (is_global_rule: True) in namespace: 'rule_labels'.' \n",
      " \t ProductionRuleField with rule: arg_list_or_star -> [\"*\"] (is_global_rule: True) in namespace: 'rule_labels'.' \n",
      " \t ProductionRuleField with rule: arg_list_or_star -> [arg_list] (is_global_rule: True) in namespace: 'rule_labels'.' \n",
      " \t ProductionRuleField with rule: binaryop -> [\"!=\"] (is_global_rule: True) in namespace: 'rule_labels'.' \n",
      " \t ProductionRuleField with rule: binaryop -> [\"*\"] (is_global_rule: True) in namespace: 'rule_labels'.' \n",
      " \t ProductionRuleField with rule: binaryop -> [\"+\"] (is_global_rule: True) in namespace: 'rule_labels'.' \n",
      " \t ProductionRuleField with rule: binaryop -> [\"-\"] (is_global_rule: True) in namespace: 'rule_labels'.' \n",
      " \t ProductionRuleField with rule: binaryop -> [\"/\"] (is_global_rule: True) in namespace: 'rule_labels'.' \n",
      " \t ProductionRuleField with rule: binaryop -> [\"<\"] (is_global_rule: True) in namespace: 'rule_labels'.' \n",
      " \t ProductionRuleField with rule: binaryop -> [\"<=\"] (is_global_rule: True) in namespace: 'rule_labels'.' \n",
      " \t ProductionRuleField with rule: binaryop -> [\"<>\"] (is_global_rule: True) in namespace: 'rule_labels'.' \n",
      " \t ProductionRuleField with rule: binaryop -> [\"=\"] (is_global_rule: True) in namespace: 'rule_labels'.' \n",
      " \t ProductionRuleField with rule: binaryop -> [\">\"] (is_global_rule: True) in namespace: 'rule_labels'.' \n",
      " \t ProductionRuleField with rule: binaryop -> [\">=\"] (is_global_rule: True) in namespace: 'rule_labels'.' \n",
      " \t ProductionRuleField with rule: binaryop -> [\"and\"] (is_global_rule: True) in namespace: 'rule_labels'.' \n",
      " \t ProductionRuleField with rule: binaryop -> [\"like\"] (is_global_rule: True) in namespace: 'rule_labels'.' \n",
      " \t ProductionRuleField with rule: binaryop -> [\"or\"] (is_global_rule: True) in namespace: 'rule_labels'.' \n",
      " \t ProductionRuleField with rule: boolean -> [\"false\"] (is_global_rule: True) in namespace: 'rule_labels'.' \n",
      " \t ProductionRuleField with rule: boolean -> [\"true\"] (is_global_rule: True) in namespace: 'rule_labels'.' \n",
      " \t ProductionRuleField with rule: col_ref -> [\"department@budget_in_billions\"] (is_global_rule: False) in namespace: 'rule_labels'.' \n",
      " \t ProductionRuleField with rule: col_ref -> [\"department@creation\"] (is_global_rule: False) in namespace: 'rule_labels'.' \n",
      " \t ProductionRuleField with rule: col_ref -> [\"department@department_id\"] (is_global_rule: False) in namespace: 'rule_labels'.' \n",
      " \t ProductionRuleField with rule: col_ref -> [\"department@name\"] (is_global_rule: False) in namespace: 'rule_labels'.' \n",
      " \t ProductionRuleField with rule: col_ref -> [\"department@num_employees\"] (is_global_rule: False) in namespace: 'rule_labels'.' \n",
      " \t ProductionRuleField with rule: col_ref -> [\"department@ranking\"] (is_global_rule: False) in namespace: 'rule_labels'.' \n",
      " \t ProductionRuleField with rule: col_ref -> [\"head@age\"] (is_global_rule: False) in namespace: 'rule_labels'.' \n",
      " \t ProductionRuleField with rule: col_ref -> [\"head@born_state\"] (is_global_rule: False) in namespace: 'rule_labels'.' \n",
      " \t ProductionRuleField with rule: col_ref -> [\"head@head_id\"] (is_global_rule: False) in namespace: 'rule_labels'.' \n",
      " \t ProductionRuleField with rule: col_ref -> [\"head@name\"] (is_global_rule: False) in namespace: 'rule_labels'.' \n",
      " \t ProductionRuleField with rule: col_ref -> [\"management@department_id\"] (is_global_rule: False) in namespace: 'rule_labels'.' \n",
      " \t ProductionRuleField with rule: col_ref -> [\"management@head_id\"] (is_global_rule: False) in namespace: 'rule_labels'.' \n",
      " \t ProductionRuleField with rule: col_ref -> [\"management@temporary_acting\"] (is_global_rule: False) in namespace: 'rule_labels'.' \n",
      " \t ProductionRuleField with rule: column_name -> [\"department@budget_in_billions\"] (is_global_rule: False) in namespace: 'rule_labels'.' \n",
      " \t ProductionRuleField with rule: column_name -> [\"department@creation\"] (is_global_rule: False) in namespace: 'rule_labels'.' \n",
      " \t ProductionRuleField with rule: column_name -> [\"department@department_id\"] (is_global_rule: False) in namespace: 'rule_labels'.' \n",
      " \t ProductionRuleField with rule: column_name -> [\"department@name\"] (is_global_rule: False) in namespace: 'rule_labels'.' \n",
      " \t ProductionRuleField with rule: column_name -> [\"department@num_employees\"] (is_global_rule: False) in namespace: 'rule_labels'.' \n",
      " \t ProductionRuleField with rule: column_name -> [\"department@ranking\"] (is_global_rule: False) in namespace: 'rule_labels'.' \n",
      " \t ProductionRuleField with rule: column_name -> [\"head@age\"] (is_global_rule: False) in namespace: 'rule_labels'.' \n",
      " \t ProductionRuleField with rule: column_name -> [\"head@born_state\"] (is_global_rule: False) in namespace: 'rule_labels'.' \n",
      " \t ProductionRuleField with rule: column_name -> [\"head@head_id\"] (is_global_rule: False) in namespace: 'rule_labels'.' \n",
      " \t ProductionRuleField with rule: column_name -> [\"head@name\"] (is_global_rule: False) in namespace: 'rule_labels'.' \n",
      " \t ProductionRuleField with rule: column_name -> [\"management@department_id\"] (is_global_rule: False) in namespace: 'rule_labels'.' \n",
      " \t ProductionRuleField with rule: column_name -> [\"management@head_id\"] (is_global_rule: False) in namespace: 'rule_labels'.' \n",
      " \t ProductionRuleField with rule: column_name -> [\"management@temporary_acting\"] (is_global_rule: False) in namespace: 'rule_labels'.' \n",
      " \t ProductionRuleField with rule: expr -> [in_expr] (is_global_rule: True) in namespace: 'rule_labels'.' \n",
      " \t ProductionRuleField with rule: expr -> [source_subq] (is_global_rule: True) in namespace: 'rule_labels'.' \n",
      " \t ProductionRuleField with rule: expr -> [unaryop, expr] (is_global_rule: True) in namespace: 'rule_labels'.' \n",
      " \t ProductionRuleField with rule: expr -> [value, \"between\", value, \"and\", value] (is_global_rule: True) in namespace: 'rule_labels'.' \n",
      " \t ProductionRuleField with rule: expr -> [value, \"like\", string] (is_global_rule: True) in namespace: 'rule_labels'.' \n",
      " \t ProductionRuleField with rule: expr -> [value, binaryop, expr] (is_global_rule: True) in namespace: 'rule_labels'.' \n",
      " \t ProductionRuleField with rule: expr -> [value] (is_global_rule: True) in namespace: 'rule_labels'.' \n",
      " \t ProductionRuleField with rule: fname -> [\"all\"] (is_global_rule: True) in namespace: 'rule_labels'.' \n",
      " \t ProductionRuleField with rule: fname -> [\"avg\"] (is_global_rule: True) in namespace: 'rule_labels'.' \n",
      " \t ProductionRuleField with rule: fname -> [\"count\"] (is_global_rule: True) in namespace: 'rule_labels'.' \n",
      " \t ProductionRuleField with rule: fname -> [\"max\"] (is_global_rule: True) in namespace: 'rule_labels'.' \n",
      " \t ProductionRuleField with rule: fname -> [\"min\"] (is_global_rule: True) in namespace: 'rule_labels'.' \n",
      " \t ProductionRuleField with rule: fname -> [\"sum\"] (is_global_rule: True) in namespace: 'rule_labels'.' \n",
      " \t ProductionRuleField with rule: from_clause -> [\"from\", source] (is_global_rule: True) in namespace: 'rule_labels'.' \n",
      " \t ProductionRuleField with rule: from_clause -> [\"from\", table_name, join_clauses] (is_global_rule: True) in namespace: 'rule_labels'.' \n",
      " \t ProductionRuleField with rule: function -> [fname, \"(\", \"distinct\", arg_list_or_star, \")\"] (is_global_rule: True) in namespace: 'rule_labels'.' \n",
      " \t ProductionRuleField with rule: function -> [fname, \"(\", arg_list_or_star, \")\"] (is_global_rule: True) in namespace: 'rule_labels'.' \n",
      " \t ProductionRuleField with rule: group_clause -> [expr, \",\", group_clause] (is_global_rule: True) in namespace: 'rule_labels'.' \n",
      " \t ProductionRuleField with rule: group_clause -> [expr] (is_global_rule: True) in namespace: 'rule_labels'.' \n",
      " \t ProductionRuleField with rule: groupby_clause -> [\"group\", \"by\", group_clause, \"having\", expr] (is_global_rule: True) in namespace: 'rule_labels'.' \n",
      " \t ProductionRuleField with rule: groupby_clause -> [\"group\", \"by\", group_clause] (is_global_rule: True) in namespace: 'rule_labels'.' \n",
      " \t ProductionRuleField with rule: in_expr -> [value, \"in\", expr] (is_global_rule: True) in namespace: 'rule_labels'.' \n",
      " \t ProductionRuleField with rule: in_expr -> [value, \"in\", string_set] (is_global_rule: True) in namespace: 'rule_labels'.' \n",
      " \t ProductionRuleField with rule: in_expr -> [value, \"not\", \"in\", expr] (is_global_rule: True) in namespace: 'rule_labels'.' \n",
      " \t ProductionRuleField with rule: in_expr -> [value, \"not\", \"in\", string_set] (is_global_rule: True) in namespace: 'rule_labels'.' \n",
      " \t ProductionRuleField with rule: iue -> [\"except\"] (is_global_rule: True) in namespace: 'rule_labels'.' \n",
      " \t ProductionRuleField with rule: iue -> [\"intersect\"] (is_global_rule: True) in namespace: 'rule_labels'.' \n",
      " \t ProductionRuleField with rule: iue -> [\"union\"] (is_global_rule: True) in namespace: 'rule_labels'.' \n",
      " \t ProductionRuleField with rule: join_clause -> [\"join\", table_name, \"on\", join_condition_clause] (is_global_rule: True) in namespace: 'rule_labels'.' \n",
      " \t ProductionRuleField with rule: join_clauses -> [join_clause, join_clauses] (is_global_rule: True) in namespace: 'rule_labels'.' \n",
      " \t ProductionRuleField with rule: join_clauses -> [join_clause] (is_global_rule: True) in namespace: 'rule_labels'.' \n",
      " \t ProductionRuleField with rule: join_condition -> [column_name, \"=\", column_name] (is_global_rule: True) in namespace: 'rule_labels'.' \n",
      " \t ProductionRuleField with rule: join_condition_clause -> [join_condition, \"and\", join_condition_clause] (is_global_rule: True) in namespace: 'rule_labels'.' \n",
      " \t ProductionRuleField with rule: join_condition_clause -> [join_condition] (is_global_rule: True) in namespace: 'rule_labels'.' \n",
      " \t ProductionRuleField with rule: limit -> [\"limit\", non_literal_number] (is_global_rule: True) in namespace: 'rule_labels'.' \n",
      " \t ProductionRuleField with rule: non_literal_number -> [\"1\"] (is_global_rule: True) in namespace: 'rule_labels'.' \n",
      " \t ProductionRuleField with rule: non_literal_number -> [\"2\"] (is_global_rule: True) in namespace: 'rule_labels'.' \n",
      " \t ProductionRuleField with rule: non_literal_number -> [\"3\"] (is_global_rule: True) in namespace: 'rule_labels'.' \n",
      " \t ProductionRuleField with rule: non_literal_number -> [\"4\"] (is_global_rule: True) in namespace: 'rule_labels'.' \n",
      " \t ProductionRuleField with rule: number -> [\"value\"] (is_global_rule: True) in namespace: 'rule_labels'.' \n",
      " \t ProductionRuleField with rule: order_clause -> [ordering_term, \",\", order_clause] (is_global_rule: True) in namespace: 'rule_labels'.' \n",
      " \t ProductionRuleField with rule: order_clause -> [ordering_term] (is_global_rule: True) in namespace: 'rule_labels'.' \n",
      " \t ProductionRuleField with rule: orderby_clause -> [\"order\", \"by\", order_clause] (is_global_rule: True) in namespace: 'rule_labels'.' \n",
      " \t ProductionRuleField with rule: ordering -> [\"asc\"] (is_global_rule: True) in namespace: 'rule_labels'.' \n",
      " \t ProductionRuleField with rule: ordering -> [\"desc\"] (is_global_rule: True) in namespace: 'rule_labels'.' \n",
      " \t ProductionRuleField with rule: ordering_term -> [expr, ordering] (is_global_rule: True) in namespace: 'rule_labels'.' \n",
      " \t ProductionRuleField with rule: ordering_term -> [expr] (is_global_rule: True) in namespace: 'rule_labels'.' \n",
      " \t ProductionRuleField with rule: parenval -> [\"(\", expr, \")\"] (is_global_rule: True) in namespace: 'rule_labels'.' \n",
      " \t ProductionRuleField with rule: query -> [select_core, groupby_clause, limit] (is_global_rule: True) in namespace: 'rule_labels'.' \n",
      " \t ProductionRuleField with rule: query -> [select_core, groupby_clause, orderby_clause, limit] (is_global_rule: True) in namespace: 'rule_labels'.' \n",
      " \t ProductionRuleField with rule: query -> [select_core, groupby_clause, orderby_clause] (is_global_rule: True) in namespace: 'rule_labels'.' \n",
      " \t ProductionRuleField with rule: query -> [select_core, groupby_clause] (is_global_rule: True) in namespace: 'rule_labels'.' \n",
      " \t ProductionRuleField with rule: query -> [select_core, orderby_clause, limit] (is_global_rule: True) in namespace: 'rule_labels'.' \n",
      " \t ProductionRuleField with rule: query -> [select_core, orderby_clause] (is_global_rule: True) in namespace: 'rule_labels'.' \n",
      " \t ProductionRuleField with rule: query -> [select_core] (is_global_rule: True) in namespace: 'rule_labels'.' \n",
      " \t ProductionRuleField with rule: select_core -> [select_with_distinct, select_results, from_clause, where_clause] (is_global_rule: True) in namespace: 'rule_labels'.' \n",
      " \t ProductionRuleField with rule: select_core -> [select_with_distinct, select_results, from_clause] (is_global_rule: True) in namespace: 'rule_labels'.' \n",
      " \t ProductionRuleField with rule: select_core -> [select_with_distinct, select_results, where_clause] (is_global_rule: True) in namespace: 'rule_labels'.' \n",
      " \t ProductionRuleField with rule: select_core -> [select_with_distinct, select_results] (is_global_rule: True) in namespace: 'rule_labels'.' \n",
      " \t ProductionRuleField with rule: select_result -> [\"*\"] (is_global_rule: True) in namespace: 'rule_labels'.' \n",
      " \t ProductionRuleField with rule: select_result -> [column_name] (is_global_rule: True) in namespace: 'rule_labels'.' \n",
      " \t ProductionRuleField with rule: select_result -> [expr] (is_global_rule: True) in namespace: 'rule_labels'.' \n",
      " \t ProductionRuleField with rule: select_result -> [table_name, \".*\"] (is_global_rule: True) in namespace: 'rule_labels'.' \n",
      " \t ProductionRuleField with rule: select_results -> [select_result, \",\", select_results] (is_global_rule: True) in namespace: 'rule_labels'.' \n",
      " \t ProductionRuleField with rule: select_results -> [select_result] (is_global_rule: True) in namespace: 'rule_labels'.' \n",
      " \t ProductionRuleField with rule: select_with_distinct -> [\"select\", \"distinct\"] (is_global_rule: True) in namespace: 'rule_labels'.' \n",
      " \t ProductionRuleField with rule: select_with_distinct -> [\"select\"] (is_global_rule: True) in namespace: 'rule_labels'.' \n",
      " \t ProductionRuleField with rule: single_source -> [source_subq] (is_global_rule: True) in namespace: 'rule_labels'.' \n",
      " \t ProductionRuleField with rule: single_source -> [table_name] (is_global_rule: True) in namespace: 'rule_labels'.' \n",
      " \t ProductionRuleField with rule: source -> [single_source, \",\", source] (is_global_rule: True) in namespace: 'rule_labels'.' \n",
      " \t ProductionRuleField with rule: source -> [single_source] (is_global_rule: True) in namespace: 'rule_labels'.' \n",
      " \t ProductionRuleField with rule: source_subq -> [\"(\", query, \")\"] (is_global_rule: True) in namespace: 'rule_labels'.' \n",
      " \t ProductionRuleField with rule: statement -> [query, iue, query] (is_global_rule: True) in namespace: 'rule_labels'.' \n",
      " \t ProductionRuleField with rule: statement -> [query] (is_global_rule: True) in namespace: 'rule_labels'.' \n",
      " \t ProductionRuleField with rule: string -> [\"'\", \"value\", \"'\"] (is_global_rule: True) in namespace: 'rule_labels'.' \n",
      " \t ProductionRuleField with rule: string_set -> [\"(\", string_set_vals, \")\"] (is_global_rule: True) in namespace: 'rule_labels'.' \n",
      " \t ProductionRuleField with rule: string_set_vals -> [string, \",\", string_set_vals] (is_global_rule: True) in namespace: 'rule_labels'.' \n",
      " \t ProductionRuleField with rule: string_set_vals -> [string] (is_global_rule: True) in namespace: 'rule_labels'.' \n",
      " \t ProductionRuleField with rule: table_name -> [\"department\"] (is_global_rule: False) in namespace: 'rule_labels'.' \n",
      " \t ProductionRuleField with rule: table_name -> [\"head\"] (is_global_rule: False) in namespace: 'rule_labels'.' \n",
      " \t ProductionRuleField with rule: table_name -> [\"management\"] (is_global_rule: False) in namespace: 'rule_labels'.' \n",
      " \t ProductionRuleField with rule: table_source -> [\"department\"] (is_global_rule: False) in namespace: 'rule_labels'.' \n",
      " \t ProductionRuleField with rule: table_source -> [\"head\"] (is_global_rule: False) in namespace: 'rule_labels'.' \n",
      " \t ProductionRuleField with rule: table_source -> [\"management\"] (is_global_rule: False) in namespace: 'rule_labels'.' \n",
      " \t ProductionRuleField with rule: unaryop -> [\"+\"] (is_global_rule: True) in namespace: 'rule_labels'.' \n",
      " \t ProductionRuleField with rule: unaryop -> [\"-\"] (is_global_rule: True) in namespace: 'rule_labels'.' \n",
      " \t ProductionRuleField with rule: unaryop -> [\"not\"] (is_global_rule: True) in namespace: 'rule_labels'.' \n",
      " \t ProductionRuleField with rule: value -> [\"YEAR(CURDATE())\"] (is_global_rule: True) in namespace: 'rule_labels'.' \n",
      " \t ProductionRuleField with rule: value -> [boolean] (is_global_rule: True) in namespace: 'rule_labels'.' \n",
      " \t ProductionRuleField with rule: value -> [column_name] (is_global_rule: True) in namespace: 'rule_labels'.' \n",
      " \t ProductionRuleField with rule: value -> [function] (is_global_rule: True) in namespace: 'rule_labels'.' \n",
      " \t ProductionRuleField with rule: value -> [number] (is_global_rule: True) in namespace: 'rule_labels'.' \n",
      " \t ProductionRuleField with rule: value -> [parenval] (is_global_rule: True) in namespace: 'rule_labels'.' \n",
      " \t ProductionRuleField with rule: value -> [string] (is_global_rule: True) in namespace: 'rule_labels'.' \n",
      " \t ProductionRuleField with rule: where_clause -> [\"where\", expr, where_conj] (is_global_rule: True) in namespace: 'rule_labels'.' \n",
      " \t ProductionRuleField with rule: where_clause -> [\"where\", expr] (is_global_rule: True) in namespace: 'rule_labels'.' \n",
      " \t ProductionRuleField with rule: where_conj -> [\"and\", expr, where_conj] (is_global_rule: True) in namespace: 'rule_labels'.' \n",
      " \t ProductionRuleField with rule: where_conj -> [\"and\", expr] (is_global_rule: True) in namespace: 'rule_labels'.' \n",
      "\n"
     ]
    }
   ],
   "source": [
    "print(a.fields['valid_actions'])"
   ]
  },
  {
   "cell_type": "code",
   "execution_count": null,
   "metadata": {},
   "outputs": [],
   "source": []
  },
  {
   "cell_type": "code",
   "execution_count": 13,
   "metadata": {},
   "outputs": [
    {
     "data": {
      "text/plain": [
       "Column(id=3, table=Table(id=0, name=['city'], unsplit_name='city', orig_name='city', columns=[Column(id=1, table=..., name=['city', 'id'], unsplit_name='city id', orig_name='City_ID', type='number', foreign_key_for=None), Column(id=2, table=..., name=['official', 'name'], unsplit_name='official name', orig_name='Official_Name', type='text', foreign_key_for=None), ..., Column(id=4, table=..., name=['area', 'km', '2'], unsplit_name='area km 2', orig_name='Area_km_2', type='number', foreign_key_for=None), Column(id=5, table=..., name=['population'], unsplit_name='population', orig_name='Population', type='number', foreign_key_for=None), Column(id=6, table=..., name=['census', 'ranking'], unsplit_name='census ranking', orig_name='Census_Ranking', type='text', foreign_key_for=None)], primary_keys=[Column(id=1, table=..., name=['city', 'id'], unsplit_name='city id', orig_name='City_ID', type='number', foreign_key_for=None)]), name=['status'], unsplit_name='status', orig_name='Status', type='text', foreign_key_for=None)"
      ]
     },
     "execution_count": 13,
     "metadata": {},
     "output_type": "execute_result"
    }
   ],
   "source": [
    "d.metadata.schema.columns[3]"
   ]
  },
  {
   "cell_type": "code",
   "execution_count": 12,
   "metadata": {},
   "outputs": [
    {
     "data": {
      "text/plain": [
       "['asdas_adsdas']"
      ]
     },
     "execution_count": 12,
     "metadata": {},
     "output_type": "execute_result"
    }
   ],
   "source": [
    "\"asdas_adsdas\".split()"
   ]
  },
  {
   "cell_type": "code",
   "execution_count": 10,
   "metadata": {},
   "outputs": [
    {
     "data": {
      "text/plain": [
       "[['city'], ['farm'], ['farm', 'competition'], ['competition', 'record']]"
      ]
     },
     "execution_count": 10,
     "metadata": {},
     "output_type": "execute_result"
    }
   ],
   "source": [
    "# print()\n"
   ]
  },
  {
   "cell_type": "code",
   "execution_count": 29,
   "metadata": {},
   "outputs": [],
   "source": [
    "\n",
    "# print(b)\n"
   ]
  },
  {
   "cell_type": "code",
   "execution_count": 2,
   "metadata": {
    "jupyter": {
     "source_hidden": true
    }
   },
   "outputs": [
    {
     "name": "stderr",
     "output_type": "stream",
     "text": [
      "DB connections: 100%|██████████| 166/166 [00:00<00:00, 354.40it/s]\n"
     ]
    }
   ],
   "source": [
    "import json\n",
    "from dataset_readers.ratsql_spider_bert import *\n",
    "\n",
    "# builder = RelationBuilder()\n",
    "\n",
    "\n",
    "db_path = \"dataset/database\"\n",
    "pre = SpiderEncoderV2Preproc()\n",
    "schemas, eval_foreign_key_maps = pre.load_tables([\"dataset/tables.json\"])\n",
    "# for path in paths:\n",
    "for db_id, schema in tqdm(schemas.items(), desc=\"DB connections\"):\n",
    "    sqlite_path = Path(db_path) / db_id / f\"{db_id}.sqlite\"\n",
    "    source: sqlite3.Connection\n",
    "    with sqlite3.connect(sqlite_path) as source:\n",
    "        dest = sqlite3.connect(':memory:')\n",
    "        dest.row_factory = sqlite3.Row\n",
    "        source.backup(dest)\n",
    "    schema.connection = dest\n",
    "    \n",
    "examples=[]\n",
    "raw_data = json.load(open(\"dataset/train_spider.json\"))\n",
    "for entry in raw_data:\n",
    "    item = SpiderItem(\n",
    "        text=entry['question_toks'],\n",
    "        code=entry['sql'],\n",
    "        schema=schemas[entry['db_id']],\n",
    "        orig=entry,\n",
    "        orig_schema=schemas[entry['db_id']].orig)\n",
    "#     desc = pre.preprocess_item(item,\"train\")\n",
    "    examples.append(item)\n",
    "\n",
    "        # Backup in-memory copies of all the DBs and create the live connections\n"
   ]
  },
  {
   "cell_type": "code",
   "execution_count": 7,
   "metadata": {},
   "outputs": [
    {
     "name": "stderr",
     "output_type": "stream",
     "text": [
      "  0%|          | 0/7000 [00:00<?, ?it/s]"
     ]
    },
    {
     "name": "stdout",
     "output_type": "stream",
     "text": [
      "['How', 'many', 'heads', 'of', 'the', 'departments', 'are', 'older', 'than', '56', '?', '<type: text>_*_<table-sep>_<any-table>', '<type: number>_department_id_<table-sep>_department', '<type: text>_name_<table-sep>_department', '<type: text>_creation_<table-sep>_department', '<type: number>_ranking_<table-sep>_department', '<type: number>_budget_in_billions_<table-sep>_department', '<type: number>_num_employees_<table-sep>_department', '<type: number>_head_id_<table-sep>_head', '<type: text>_name_<table-sep>_head', '<type: text>_born_state_<table-sep>_head', '<type: number>_age_<table-sep>_head', '<type: number>_department_id_<table-sep>_management', '<type: number>_head_id_<table-sep>_management', '<type: text>_temporary_acting_<table-sep>_management', 'department', 'head', 'management']\n"
     ]
    },
    {
     "name": "stderr",
     "output_type": "stream",
     "text": [
      "\n"
     ]
    }
   ],
   "source": [
    "# examples\n",
    "# \n",
    "import pandas as pd\n",
    "print \n",
    "# \n",
    "import tqdm\n",
    "for item in tqdm.tqdm(examples):\n",
    "    desc = pre.preprocess_item(item,\"train\")\n",
    "    q = desc['question']\n",
    "    q_len = len(q)\n",
    "    t = [x[0] for x in  desc['tables']]\n",
    "    t_len = len(t)\n",
    "    c = [\"_\".join(x) for x in  desc['columns']]\n",
    "    c_len = len(c)\n",
    "    enc = q+c+t\n",
    "    print(enc)\n",
    "    relation = pre.compute_relations(desc,len(enc),q_len,c_len,range(c_len+1),range(t_len+1))\n",
    "#     with np.printoptions(threshold=np.inf):\n",
    "#     print(np.array2string())\n",
    "\n",
    "    arr = pd.DataFrame(relation)\n",
    "#     print()\n",
    "    break\n",
    "# arr\n"
   ]
  },
  {
   "cell_type": "code",
   "execution_count": 8,
   "metadata": {},
   "outputs": [
    {
     "name": "stdout",
     "output_type": "stream",
     "text": [
      "('utterance', <allennlp.data.fields.text_field.TextField object at 0x7f36567d44c0>)\n",
      "('valid_actions', <allennlp.data.fields.list_field.ListField object at 0x7f3660a35fd0>)\n",
      "('action_sequence', <allennlp.data.fields.list_field.ListField object at 0x7f36565e9730>)\n",
      "('world', <allennlp.data.fields.metadata_field.MetadataField object at 0x7f36565e9d00>)\n",
      "('schema', <dataset_readers.fields.spider_knowledge_graph_field.SpiderKnowledgeGraphField object at 0x7f36565e0be0>)\n"
     ]
    }
   ],
   "source": [
    "for v in a.items():\n",
    "    print(v)"
   ]
  },
  {
   "cell_type": "code",
   "execution_count": 10,
   "metadata": {},
   "outputs": [],
   "source": [
    "b=a.fields['utterance']"
   ]
  },
  {
   "cell_type": "code",
   "execution_count": 14,
   "metadata": {},
   "outputs": [],
   "source": [
    "b.sequence_length()\n",
    "b.tokens"
   ]
  },
  {
   "cell_type": "code",
   "execution_count": 20,
   "metadata": {},
   "outputs": [],
   "source": [
    "c=a.fields['schema']\n",
    "c.__dict__"
   ]
  },
  {
   "cell_type": "code",
   "execution_count": 22,
   "metadata": {},
   "outputs": [
    {
     "name": "stderr",
     "output_type": "stream",
     "text": [
      "[nltk_data] Downloading package stopwords to /home/ohadr/nltk_data...\n",
      "[nltk_data]   Unzipping corpora/stopwords.zip.\n"
     ]
    },
    {
     "data": {
      "text/plain": [
       "True"
      ]
     },
     "execution_count": 22,
     "metadata": {},
     "output_type": "execute_result"
    }
   ],
   "source": []
  },
  {
   "cell_type": "code",
   "execution_count": null,
   "metadata": {},
   "outputs": [],
   "source": [
    "builder.compute_relations(dict(),)"
   ]
  },
  {
   "cell_type": "code",
   "execution_count": 10,
   "metadata": {},
   "outputs": [],
   "source": [
    "arr.to_csv(\"t.csv\")"
   ]
  },
  {
   "cell_type": "code",
   "execution_count": null,
   "metadata": {},
   "outputs": [],
   "source": []
  }
 ],
 "metadata": {
  "kernelspec": {
   "display_name": "Python 3.8.0 64-bit ('3.8.0': pyenv)",
   "language": "python",
   "name": "python38064bit380pyenvd6170fe0cd77433db7c61a8427799ead"
  },
  "language_info": {
   "codemirror_mode": {
    "name": "ipython",
    "version": 3
   },
   "file_extension": ".py",
   "mimetype": "text/x-python",
   "name": "python",
   "nbconvert_exporter": "python",
   "pygments_lexer": "ipython3",
   "version": "3.8.0"
  }
 },
 "nbformat": 4,
 "nbformat_minor": 4
}
