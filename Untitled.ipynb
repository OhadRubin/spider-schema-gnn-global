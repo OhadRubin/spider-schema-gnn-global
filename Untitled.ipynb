{
 "cells": [
  {
   "cell_type": "code",
   "execution_count": null,
   "metadata": {},
   "outputs": [],
   "source": [
    "!allennlp predict experiments/experiment untitled.json \\\n",
    "--predictor spider \\\n",
    "--use-dataset-reader \\\n",
    "--cuda-device=0 \\\n",
    "--include-package models.semantic_parsing.spider_parser \\\n",
    "--include-package dataset_readers.spider \\\n",
    "--include-package predictors.spider_predictor \\\n",
    "--weights-file experiments/experiment/best.th \\\n",
    "-o \"{\\\"dataset_reader\\\":{\\\"keep_if_unparsable\\\":true}}\""
   ]
  },
  {
   "cell_type": "code",
   "execution_count": null,
   "metadata": {},
   "outputs": [],
   "source": [
    "from dataset_readers.spider import *\n",
    "\n",
    "from predictors.spider_predictor import WikiTablesParserPredictor\n",
    "predictor = WikiTablesParserPredictor.from_path(\"https://s3-us-west-2.amazonaws.com/allennlp/models/sst-2-basic-classifier-glove-2019.06.27.tar.gz\")\n",
    "predictor.predict(\n",
    "  sentence=\"a very well-made, funny and entertaining picture.\"\n",
    ")"
   ]
  },
  {
   "cell_type": "code",
   "execution_count": null,
   "metadata": {},
   "outputs": [],
   "source": [
    "` python -m allennlp.service.server_simple     --archive-path allennlp/tests/fixtures/bidaf/serialization/model.tar.gz \\\n",
    "--predictor machine-comprehension     --title \"Demo of the Machine Comprehension Text Fixture\"     --field-name question --field-name passage `"
   ]
  },
  {
   "cell_type": "code",
   "execution_count": null,
   "metadata": {},
   "outputs": [],
   "source": [
    "!allennlp predict experiments/experiment untitled.json \\\n",
    "--predictor spider \\\n",
    "--use-dataset-reader \\\n",
    "--cuda-device=0 \\\n",
    "--include-package models.semantic_parsing.spider_parser \\\n",
    "--include-package dataset_readers.spider \\\n",
    "--include-package predictors.spider_predictor \\\n",
    "--weights-file experiments/experiment/best.th \\\n",
    "-o \"{\\\"dataset_reader\\\":{\\\"keep_if_unparsable\\\":true}}\""
   ]
  },
  {
   "cell_type": "code",
   "execution_count": 1,
   "metadata": {},
   "outputs": [
    {
     "name": "stderr",
     "output_type": "stream",
     "text": [
      "/opt/conda/envs/rapids/lib/python3.7/site-packages/sklearn/utils/linear_assignment_.py:21: DeprecationWarning: The linear_assignment_ module is deprecated in 0.21 and will be removed from 0.23. Use scipy.optimize.linear_sum_assignment instead.\n",
      "  DeprecationWarning)\n"
     ]
    }
   ],
   "source": [
    "from allennlp.models.archival import Archive\n",
    "import torch\n",
    "import json\n",
    "from allennlp.common import Params\n",
    "from allennlp.models.model import Model\n",
    "from allennlp.common.params import with_fallback\n",
    "from dataset_readers.spider import SpiderDatasetReader\n",
    "from predictors.spider_predictor import WikiTablesParserPredictor\n",
    "from models.semantic_parsing.spider_parser import SpiderParser\n",
    "from allennlp.predictors.predictor import Predictor\n",
    "\n",
    "reader = SpiderDatasetReader(tables_file=\"dataset/tables.json\",loading_limit=-1)\n",
    "predictor = Predictor.from_path(\"experiments/experiment\", \"spider\")\n",
    "\n",
    "def predict(utterance,db_id=\"department_management\"):\n",
    "    q = reader.text_to_instance(utterance=utterance,db_id=db_id)\n",
    "    return predictor.predict_instance(q)['predicted_sql_query']\n",
    "\n",
    "\n"
   ]
  },
  {
   "cell_type": "code",
   "execution_count": 2,
   "metadata": {},
   "outputs": [
    {
     "name": "stdout",
     "output_type": "stream",
     "text": [
      "hi\n"
     ]
    },
    {
     "data": {
      "text/plain": [
       "'select perpetrator.injured from perpetrator order by perpetrator.injured desc limit 1'"
      ]
     },
     "execution_count": 2,
     "metadata": {},
     "output_type": "execute_result"
    }
   ],
   "source": [
    "predict(\"In which year did most people get injured?\",\"perpetrator\")"
   ]
  },
  {
   "cell_type": "code",
   "execution_count": null,
   "metadata": {},
   "outputs": [],
   "source": [
    "from sqlalchemy import create_engine\n",
    "from eralchemy import render_er\n",
    "from glob import glob\n",
    "import pathlib\n",
    "import tqdm\n",
    "import timeout_decorator\n",
    "\n",
    "for schema in tqdm.tqdm(glob(\"dataset/database/*/*.sqlite\")):\n",
    "    print(schema)\n",
    "    schema_name = schema.split(\"/\")[-2]\n",
    "#     if pathlib.Path(f\"schema/{schema_name}.png\").exists():\n",
    "#         continue\n",
    "#         @timeout_decorator.timeout(10)\n",
    "#         def sc():\n",
    "    db_uri = f\"sqlite:///{schema}\"\n",
    "    engine = create_engine(db_uri)\n",
    "    try:\n",
    "        render_er(db_uri, f'schema/{schema_name}.dot')\n",
    "    except Exception as e:\n",
    "        print(e)\n"
   ]
  },
  {
   "cell_type": "code",
   "execution_count": 2,
   "metadata": {},
   "outputs": [
    {
     "name": "stdout",
     "output_type": "stream",
     "text": [
      "rm: cannot remove 'schema/*.sqlite-journal': No such file or directory\n"
     ]
    }
   ],
   "source": [
    "!rm schema/*.sqlite-journal\n",
    "!rm schema/*.sqlite\n",
    "\n",
    "#         print(line)\n",
    "        \n",
    "#     for line in f:\n",
    "#         engine.execute(line)\n"
   ]
  },
  {
   "cell_type": "code",
   "execution_count": 1,
   "metadata": {},
   "outputs": [
    {
     "name": "stdout",
     "output_type": "stream",
     "text": [
      "Collecting timeout-decorator\n",
      "  Downloading https://files.pythonhosted.org/packages/07/1c/0d9adcb848f1690f3253dcb1c1557b6cf229a93e724977cb83f266cbd0ae/timeout-decorator-0.4.1.tar.gz\n",
      "Building wheels for collected packages: timeout-decorator\n",
      "  Building wheel for timeout-decorator (setup.py) ... \u001b[?25ldone\n",
      "\u001b[?25h  Created wheel for timeout-decorator: filename=timeout_decorator-0.4.1-cp37-none-any.whl size=5020 sha256=e5fb754af4801e76ca504f7630f95ffe0fd1adc7729e9b438e9c5b1fd388ba19\n",
      "  Stored in directory: /home/ohadr/.cache/pip/wheels/f1/e6/ea/7387e3629cb46ba65140141f972745b823f4486c6fe884ccb8\n",
      "Successfully built timeout-decorator\n",
      "Installing collected packages: timeout-decorator\n",
      "Successfully installed timeout-decorator-0.4.1\n"
     ]
    }
   ],
   "source": [
    "!pip install timeout-decorator\n"
   ]
  },
  {
   "cell_type": "code",
   "execution_count": 2,
   "metadata": {},
   "outputs": [
    {
     "name": "stdout",
     "output_type": "stream",
     "text": [
      "Collecting eralchemy\n",
      "  Using cached https://files.pythonhosted.org/packages/59/86/17072a11407857a26a36d33566c83f1cf1b2467eedffc33ed16d7f84d615/ERAlchemy-1.2.10-py2.py3-none-any.whl\n",
      "Requirement already satisfied: SQLAlchemy in /opt/conda/envs/rapids/lib/python3.7/site-packages (from eralchemy) (1.3.11)\n",
      "Collecting pygraphviz (from eralchemy)\n",
      "  Using cached https://files.pythonhosted.org/packages/7e/b1/d6d849ddaf6f11036f9980d433f383d4c13d1ebcfc3cd09bc845bda7e433/pygraphviz-1.5.zip\n",
      "Building wheels for collected packages: pygraphviz\n",
      "  Building wheel for pygraphviz (setup.py) ... \u001b[?25ldone\n",
      "\u001b[?25h  Created wheel for pygraphviz: filename=pygraphviz-1.5-cp37-cp37m-linux_x86_64.whl size=192645 sha256=9b8653635c83de79c756f38075bbe0c7ffcd486944876afc07e2c26f2e53cc10\n",
      "  Stored in directory: /home/ohadr/.cache/pip/wheels/65/54/69/1aee9e66ab19916293208d4c9de0d3898adebe6b2eeff6476b\n",
      "Successfully built pygraphviz\n",
      "Installing collected packages: pygraphviz, eralchemy\n",
      "Successfully installed eralchemy-1.2.10 pygraphviz-1.5\n",
      "Note: you may need to restart the kernel to use updated packages.\n"
     ]
    }
   ],
   "source": [
    "pip install eralchemy"
   ]
  },
  {
   "cell_type": "code",
   "execution_count": 2,
   "metadata": {},
   "outputs": [
    {
     "name": "stdout",
     "output_type": "stream",
     "text": [
      "Collecting graphviz\n",
      "  Downloading https://files.pythonhosted.org/packages/f5/74/dbed754c0abd63768d3a7a7b472da35b08ac442cf87d73d5850a6f32391e/graphviz-0.13.2-py2.py3-none-any.whl\n",
      "Installing collected packages: graphviz\n",
      "Successfully installed graphviz-0.13.2\n",
      "Note: you may need to restart the kernel to use updated packages.\n"
     ]
    }
   ],
   "source": [
    "pip install graphviz"
   ]
  },
  {
   "cell_type": "code",
   "execution_count": 2,
   "metadata": {},
   "outputs": [
    {
     "data": {
      "text/plain": [
       "'structs.gv.pdf'"
      ]
     },
     "execution_count": 2,
     "metadata": {},
     "output_type": "execute_result"
    }
   ],
   "source": [
    "from graphviz import Digraph\n",
    "\n",
    "s = Digraph('structs', node_attr={'shape': 'plaintext'})\n",
    "\n",
    "s.node('struct1', '''<\n",
    "<TABLE BORDER=\"0\" CELLBORDER=\"1\" CELLSPACING=\"0\">\n",
    "  <TR>\n",
    "    <TD>left</TD>\n",
    "    <TD PORT=\"f1\">middle</TD>\n",
    "    <TD PORT=\"f2\">right</TD>\n",
    "  </TR>\n",
    "</TABLE>>''')\n",
    "s.node('struct2', '''<\n",
    "<TABLE BORDER=\"0\" CELLBORDER=\"1\" CELLSPACING=\"0\">\n",
    "  <TR>\n",
    "    <TD PORT=\"f0\">one</TD>\n",
    "    <TD>two</TD>\n",
    "  </TR>\n",
    "</TABLE>>''')\n",
    "s.node('struct3', '''<\n",
    "<TABLE BORDER=\"0\" CELLBORDER=\"1\" CELLSPACING=\"0\" CELLPADDING=\"4\">\n",
    "  <TR>\n",
    "    <TD ROWSPAN=\"3\">hello<BR/>world</TD>\n",
    "    <TD COLSPAN=\"3\">b</TD>\n",
    "    <TD ROWSPAN=\"3\">g</TD>\n",
    "    <TD ROWSPAN=\"3\">h</TD>\n",
    "  </TR>\n",
    "  <TR>\n",
    "    <TD>c</TD>\n",
    "    <TD PORT=\"here\">d</TD>\n",
    "    <TD>e</TD>\n",
    "  </TR>\n",
    "  <TR>\n",
    "    <TD COLSPAN=\"3\">f</TD>\n",
    "  </TR>\n",
    "</TABLE>>''')\n",
    "\n",
    "s.edges([('struct1:f1', 'struct2:f0'), ('struct1:f2', 'struct3:here')])\n",
    "\n",
    "s.view()"
   ]
  },
  {
   "cell_type": "code",
   "execution_count": 4,
   "metadata": {},
   "outputs": [],
   "source": [
    "with open(\"dataset/tables.json\") as f:\n",
    "    tables = json.load(f)"
   ]
  },
  {
   "cell_type": "code",
   "execution_count": null,
   "metadata": {},
   "outputs": [],
   "source": [
    "for table in tables[:4]:\n",
    "    print(tables)"
   ]
  },
  {
   "cell_type": "code",
   "execution_count": 20,
   "metadata": {},
   "outputs": [
    {
     "ename": "KeyError",
     "evalue": "'predicted_sql_query'",
     "output_type": "error",
     "traceback": [
      "\u001b[0;31m---------------------------------------------------------------------------\u001b[0m",
      "\u001b[0;31mKeyError\u001b[0m                                  Traceback (most recent call last)",
      "\u001b[0;32m<ipython-input-20-e98d107000d6>\u001b[0m in \u001b[0;36m<module>\u001b[0;34m\u001b[0m\n\u001b[1;32m      1\u001b[0m \u001b[0;31m# q = json.loads(\"\"\"{\"question\": \"a very well-made, funny and entertaining picture.\",\"db_id\":\"department_management\"}\"\"\")\u001b[0m\u001b[0;34m\u001b[0m\u001b[0;34m\u001b[0m\u001b[0;34m\u001b[0m\u001b[0m\n\u001b[1;32m      2\u001b[0m \u001b[0mq\u001b[0m \u001b[0;34m=\u001b[0m \u001b[0mreader\u001b[0m\u001b[0;34m.\u001b[0m\u001b[0mtext_to_instance\u001b[0m\u001b[0;34m(\u001b[0m\u001b[0mutterance\u001b[0m\u001b[0;34m=\u001b[0m\u001b[0;34m\"a very well-made, funny and entertaining picture.\"\u001b[0m\u001b[0;34m,\u001b[0m\u001b[0mdb_id\u001b[0m\u001b[0;34m=\u001b[0m\u001b[0;34m\"department_management\"\u001b[0m\u001b[0;34m)\u001b[0m\u001b[0;34m\u001b[0m\u001b[0;34m\u001b[0m\u001b[0m\n\u001b[0;32m----> 3\u001b[0;31m \u001b[0mpredictor\u001b[0m\u001b[0;34m.\u001b[0m\u001b[0mpredict_instance\u001b[0m\u001b[0;34m(\u001b[0m\u001b[0mq\u001b[0m\u001b[0;34m)\u001b[0m\u001b[0;34m\u001b[0m\u001b[0;34m\u001b[0m\u001b[0m\n\u001b[0m",
      "\u001b[0;32m~/workspace/spider-schema-gnn-global/predictors/spider_predictor.py\u001b[0m in \u001b[0;36mpredict_instance\u001b[0;34m(self, instance)\u001b[0m\n\u001b[1;32m     17\u001b[0m         \u001b[0mjson_output\u001b[0m \u001b[0;34m=\u001b[0m \u001b[0;34m{\u001b[0m\u001b[0;34m}\u001b[0m\u001b[0;34m\u001b[0m\u001b[0;34m\u001b[0m\u001b[0m\n\u001b[1;32m     18\u001b[0m         \u001b[0moutputs\u001b[0m \u001b[0;34m=\u001b[0m \u001b[0mself\u001b[0m\u001b[0;34m.\u001b[0m\u001b[0m_model\u001b[0m\u001b[0;34m.\u001b[0m\u001b[0mforward_on_instance\u001b[0m\u001b[0;34m(\u001b[0m\u001b[0minstance\u001b[0m\u001b[0;34m)\u001b[0m\u001b[0;34m\u001b[0m\u001b[0;34m\u001b[0m\u001b[0m\n\u001b[0;32m---> 19\u001b[0;31m         \u001b[0mpredicted_sql_query\u001b[0m \u001b[0;34m=\u001b[0m \u001b[0moutputs\u001b[0m\u001b[0;34m[\u001b[0m\u001b[0;34m'predicted_sql_query'\u001b[0m\u001b[0;34m]\u001b[0m\u001b[0;34m.\u001b[0m\u001b[0mreplace\u001b[0m\u001b[0;34m(\u001b[0m\u001b[0;34m'\\n'\u001b[0m\u001b[0;34m,\u001b[0m \u001b[0;34m' '\u001b[0m\u001b[0;34m)\u001b[0m\u001b[0;34m\u001b[0m\u001b[0;34m\u001b[0m\u001b[0m\n\u001b[0m\u001b[1;32m     20\u001b[0m         \u001b[0;32mif\u001b[0m \u001b[0mpredicted_sql_query\u001b[0m \u001b[0;34m==\u001b[0m \u001b[0;34m''\u001b[0m\u001b[0;34m:\u001b[0m\u001b[0;34m\u001b[0m\u001b[0;34m\u001b[0m\u001b[0m\n\u001b[1;32m     21\u001b[0m             \u001b[0;31m# line must not be empty for the evaluator to consider it\u001b[0m\u001b[0;34m\u001b[0m\u001b[0;34m\u001b[0m\u001b[0;34m\u001b[0m\u001b[0m\n",
      "\u001b[0;31mKeyError\u001b[0m: 'predicted_sql_query'"
     ]
    }
   ],
   "source": []
  },
  {
   "cell_type": "code",
   "execution_count": 9,
   "metadata": {},
   "outputs": [],
   "source": []
  },
  {
   "cell_type": "code",
   "execution_count": null,
   "metadata": {},
   "outputs": [],
   "source": []
  }
 ],
 "metadata": {
  "kernelspec": {
   "display_name": "Python 3",
   "language": "python",
   "name": "python3"
  },
  "language_info": {
   "codemirror_mode": {
    "name": "ipython",
    "version": 3
   },
   "file_extension": ".py",
   "mimetype": "text/x-python",
   "name": "python",
   "nbconvert_exporter": "python",
   "pygments_lexer": "ipython3",
   "version": "3.7.4"
  }
 },
 "nbformat": 4,
 "nbformat_minor": 4
}
